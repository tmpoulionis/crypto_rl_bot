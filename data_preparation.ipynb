{
 "cells": [
  {
   "cell_type": "markdown",
   "metadata": {},
   "source": [
    "## Dataset Preparation"
   ]
  },
  {
   "cell_type": "code",
   "execution_count": 1,
   "metadata": {},
   "outputs": [],
   "source": [
    "# Import Dependencies and Define Functions\n",
    "import pandas as pd\n",
    "import numpy as np\n",
    "import matplotlib.pyplot as plt\n",
    "\n",
    "def load_dataframes(comb_dict):\n",
    "    dataframes = {}\n",
    "    for source, assets in comb_dict.items():\n",
    "        dataframes[source] = {}\n",
    "        for asset, timeframes in assets.items():\n",
    "            dataframes[source][asset] = {}\n",
    "            for timeframe, info in timeframes.items():\n",
    "                \n",
    "                # Read CSV file\n",
    "                df = pd.read_csv(info['file_path'], parse_dates=True)\n",
    "                df['open_time'] = pd.to_datetime(df['open_time'])\n",
    "                df.set_index('open_time', inplace=True)\n",
    "                dataframes[source][asset][timeframe] = df\n",
    "                print(f\"Loaded {source} {asset} {timeframe} data: {df.shape[0]} rows\")\n",
    "    \n",
    "    return dataframes\n",
    "\n",
    "def merge_dataframes(dataframes):\n",
    "    merged_df = pd.DataFrame()\n",
    "\n",
    "    for source, assets in dataframes.items():\n",
    "        for asset, timeframes in assets.items():\n",
    "            for timeframe, df in timeframes.items():\n",
    "                merged_df = pd.concat([merged_df, df], axis=1)\n",
    "                \n",
    "    return merged_df"
   ]
  },
  {
   "cell_type": "code",
   "execution_count": 2,
   "metadata": {},
   "outputs": [
    {
     "name": "stdout",
     "output_type": "stream",
     "text": [
      "Saved data in \"./data/raw_csvs/BTC_1h_from_2020-01-01T20-00-00_to_2025-01-01T20-00-00.csv\"\n",
      "Saved data in \"./data/raw_csvs/BTC_1d_from_2020-01-01T20-00-00_to_2025-01-01T20-00-00.csv\"\n",
      "Saved data in \"./data/raw_csvs/ETH_1h_from_2020-01-01T20-00-00_to_2025-01-01T20-00-00.csv\"\n",
      "Saved data in \"./data/raw_csvs/ETH_1d_from_2020-01-01T20-00-00_to_2025-01-01T20-00-00.csv\"\n"
     ]
    }
   ],
   "source": [
    "# Fetch Data from Binance API and create CSV files\n",
    "!python binance_scraper.py --coin \"BTC,ETH\" --interval \"1h,1d\" --start_time \"2020-01-01T20:00:00\" --end_time \"2025-01-01T20:00:00\" --config \"./config_indicators.yaml\" --save_folder \"./data/raw_csvs\""
   ]
  },
  {
   "cell_type": "code",
   "execution_count": 3,
   "metadata": {},
   "outputs": [],
   "source": [
    "# Copy paste the CSV file paths from the binance_scraper.py output to the comb_dict below\n",
    "# Example of CSV file paths (these should be replaced with actual paths)    \n",
    "comb_dict = {\n",
    "    \"binance\": {\n",
    "        \"BTC\": {\n",
    "            \"1h\": {\"file_path\": \"./data/raw_csvs/BTC_1h_from_2020-01-01T20-00-00_to_2025-01-01T20-00-00.csv\"},\n",
    "            \"1d\": {\"file_path\": \"./data/raw_csvs/BTC_1d_from_2020-01-01T20-00-00_to_2025-01-01T20-00-00.csv\"}\n",
    "        },\n",
    "        \"ETH\": {\n",
    "            \"1h\": {\"file_path\": \"./data/raw_csvs/ETH_1h_from_2020-01-01T20-00-00_to_2025-01-01T20-00-00.csv\"},\n",
    "            \"1d\": {\"file_path\": \"./data/raw_csvs/ETH_1d_from_2020-01-01T20-00-00_to_2025-01-01T20-00-00.csv\"}\n",
    "        }\n",
    "    }\n",
    "}"
   ]
  },
  {
   "cell_type": "code",
   "execution_count": 4,
   "metadata": {},
   "outputs": [
    {
     "name": "stdout",
     "output_type": "stream",
     "text": [
      "Loaded binance BTC 1h data: 43817 rows\n",
      "Loaded binance BTC 1d data: 1827 rows\n",
      "Loaded binance ETH 1h data: 43817 rows\n",
      "Loaded binance ETH 1d data: 1827 rows\n"
     ]
    }
   ],
   "source": [
    "dataframes = load_dataframes(comb_dict) # Load dataframes from CSV files"
   ]
  },
  {
   "cell_type": "code",
   "execution_count": 5,
   "metadata": {},
   "outputs": [],
   "source": [
    "# Resample DataFrames to merge different timeframes\n",
    "dataframes[\"binance\"][\"BTC\"][\"1d\"] = dataframes[\"binance\"][\"BTC\"][\"1d\"].resample(\"1h\").ffill().shift(24)\n",
    "dataframes[\"binance\"][\"ETH\"][\"1d\"] = dataframes[\"binance\"][\"ETH\"][\"1d\"].resample(\"1h\").ffill().shift(24)"
   ]
  },
  {
   "cell_type": "code",
   "execution_count": 6,
   "metadata": {},
   "outputs": [],
   "source": [
    "merged_df = merge_dataframes(dataframes) # Merge all dataframes into one\n",
    "merged_df.dropna(inplace=True) # Drop rows with NaN values\n",
    "\n",
    "save_path = \"./data/dataset.csv\"\n",
    "merged_df.to_csv(save_path) # Save merged dataframe to CSV"
   ]
  }
 ],
 "metadata": {
  "kernelspec": {
   "display_name": "crypto_bot",
   "language": "python",
   "name": "python3"
  },
  "language_info": {
   "codemirror_mode": {
    "name": "ipython",
    "version": 3
   },
   "file_extension": ".py",
   "mimetype": "text/x-python",
   "name": "python",
   "nbconvert_exporter": "python",
   "pygments_lexer": "ipython3",
   "version": "3.13.2"
  }
 },
 "nbformat": 4,
 "nbformat_minor": 2
}
