{
 "cells": [
  {
   "cell_type": "code",
   "execution_count": 149,
   "id": "4254f079",
   "metadata": {},
   "outputs": [],
   "source": [
    "import os, glob, math, argparse\n",
    "import numpy as np\n",
    "import pandas as pd\n",
    "from sklearn.metrics import classification_report, balanced_accuracy_score\n",
    "from sklearn.preprocessing import StandardScaler, RobustScaler\n",
    "import matplotlib.pyplot as plt\n",
    "import torch\n",
    "import torch.nn as nn\n",
    "from torch.utils.data import TensorDataset, DataLoader\n",
    "from tqdm import tqdm\n",
    "\n",
    "# ----- Casual CNN & Head -------\n",
    "class CausalCNN(nn.Module):\n",
    "    def __init__(self, input_size, embed_size):\n",
    "        super().__init__()\n",
    "        self.cnn = nn.Sequential(\n",
    "            nn.Conv1d(input_size, 64, kernel_size=3, padding=1),\n",
    "            nn.BatchNorm1d(64),\n",
    "            nn.GELU(),\n",
    "            nn.Conv1d(64, 64, kernel_size=3, padding=2, dilation=2),\n",
    "            nn.BatchNorm1d(64),\n",
    "            nn.GELU(),\n",
    "            nn.Conv1d(64, 64, kernel_size=3, padding=4, dilation=4),\n",
    "            nn.BatchNorm1d(64),\n",
    "            nn.GELU(),\n",
    "            nn.Conv1d(64, embed_size, kernel_size=1)\n",
    "        )\n",
    "        \n",
    "    def forward(self, x):\n",
    "        return self.cnn(x)\n",
    "    \n",
    "class ClassificationHead(nn.Module):\n",
    "    def __init__(self, embed_size):\n",
    "        super().__init__()\n",
    "        self.head = nn.Sequential(\n",
    "            nn.Linear(embed_size, 128),\n",
    "            nn.ReLU(),\n",
    "            nn.Linear(128, 64),\n",
    "            nn.ReLU(),\n",
    "            nn.Linear(64, 2)\n",
    "        )\n",
    "        \n",
    "    def forward(self, x):\n",
    "        return self.head(x);"
   ]
  },
  {
   "cell_type": "code",
   "execution_count": 150,
   "id": "52257c23",
   "metadata": {},
   "outputs": [
    {
     "name": "stdout",
     "output_type": "stream",
     "text": [
      "Using cuda (device)\n"
     ]
    }
   ],
   "source": [
    "device = \"cuda\" if torch.cuda.is_available() else \"cpu\"\n",
    "print(f\"Using {device} (device)\")\n",
    "\n",
    "# load the dataset\n",
    "inputs_path = os.path.join(\"./data/cnn_pretrain\", \"inputs_outfile.npy\")\n",
    "targets_path = os.path.join(\"./data/cnn_pretrain\", \"targets_outfile.npy\")\n",
    "X = np.load(inputs_path).astype(np.float32)\n",
    "y = np.load(targets_path).astype(np.float32)"
   ]
  },
  {
   "cell_type": "code",
   "execution_count": 151,
   "id": "8efdf063",
   "metadata": {},
   "outputs": [],
   "source": [
    "N = len(X)\n",
    "split = int(0.9*N)\n",
    "\n",
    "# create tensors and dataloader\n",
    "X_tensor = torch.from_numpy(X)\n",
    "y_tensor = torch.from_numpy(y)\n",
    "\n",
    "train_ds = TensorDataset(X_tensor[:split], y_tensor[:split])\n",
    "val_ds = TensorDataset(X_tensor[split:], y_tensor[split:])\n",
    "\n",
    "train_dl = DataLoader(train_ds, batch_size=256, shuffle=True, num_workers=4)\n",
    "val_dl = DataLoader(val_ds, batch_size=256, shuffle=False, num_workers=2)\n",
    "\n",
    "# modelaawdasdz\n",
    "cnn = CausalCNN(X.shape[-1], embed_size=128).to(device)\n",
    "head = ClassificationHead(128).to(device)\n",
    "optimizer = torch.optim.Adam(list(cnn.parameters()) + list(head.parameters()), lr=0.006)\n",
    "criterion = nn.CrossEntropyLoss()"
   ]
  },
  {
   "cell_type": "code",
   "execution_count": 152,
   "id": "477417dd",
   "metadata": {},
   "outputs": [
    {
     "name": "stdout",
     "output_type": "stream",
     "text": [
      "[0.2839561  0.28312683 0.28055835 0.28396237 0.21895811 0.27749637\n",
      " 0.24048579 0.2421384  0.26253948 0.30223098 0.31391072 0.30622277\n",
      " 0.25899816 0.23372759 0.25405997 0.21198408 0.26603797 0.23648092\n",
      " 0.34494072 0.34591654 0.34185305 0.34498322 0.33554122 0.32507235\n",
      " 0.33875045 0.33676788 0.3394223  0.33645207 0.319321   0.33648607\n",
      " 0.34076795 0.33663368 0.33192086 0.34062535 0.32026172 0.3426909\n",
      " 0.2807916  0.28097808 0.27730158 0.2807976  0.21712548 0.2765161\n",
      " 0.24244475 0.24144532 0.26317474 0.30099514 0.31193653 0.30363077\n",
      " 0.25873074 0.23700635 0.25510034 0.21722057 0.26680514 0.23886777\n",
      " 0.3400681  0.34627217 0.33914894 0.34003153 0.33586535 0.3275876\n",
      " 0.33680898 0.334945   0.3366962  0.33398196 0.3176842  0.3361569\n",
      " 0.3391903  0.3349598  0.33177158 0.34243307 0.32258305 0.33858457]\n"
     ]
    },
    {
     "data": {
      "image/png": "[encoded data removed]",
      "text/plain": [
       "<Figure size 800x300 with 1 Axes>"
      ]
     },
     "metadata": {},
     "output_type": "display_data"
    }
   ],
   "source": [
    "sigmas = X.std(axis=(0, 1))        # shape (F,)\n",
    "print(sigmas)\n",
    "\n",
    "plt.figure(figsize=(8,3))\n",
    "plt.semilogy(sigmas, '.', markersize=4)\n",
    "plt.axhline(1.0, color='k', lw=1) # ideal target σ\n",
    "plt.title(\"Per-feature stdev after z-score\")\n",
    "plt.xlabel(\"feature index\"); plt.ylabel(\"σ (log scale)\")\n",
    "plt.tight_layout()"
   ]
  },
  {
   "cell_type": "code",
   "execution_count": 153,
   "id": "874d2143",
   "metadata": {},
   "outputs": [
    {
     "name": "stdout",
     "output_type": "stream",
     "text": [
      "Start training...\n"
     ]
    },
    {
     "name": "stderr",
     "output_type": "stream",
     "text": [
      "epoch 1/200: 100%|██████████| 156/156 [00:05<00:00, 27.77it/s]\n"
     ]
    },
    {
     "name": "stdout",
     "output_type": "stream",
     "text": [
      "train_loss 0.6937 - train accuracy 0.5003 \n",
      "validation_loss 0.693145 - validation accuracy 0.5000\n"
     ]
    },
    {
     "name": "stderr",
     "output_type": "stream",
     "text": [
      "epoch 2/200: 100%|██████████| 156/156 [00:04<00:00, 35.79it/s]\n"
     ]
    },
    {
     "name": "stdout",
     "output_type": "stream",
     "text": [
      "train_loss 0.6931 - train accuracy 0.4992 \n",
      "validation_loss 0.693159 - validation accuracy 0.5000\n"
     ]
    },
    {
     "name": "stderr",
     "output_type": "stream",
     "text": [
      "epoch 3/200: 100%|██████████| 156/156 [00:04<00:00, 36.97it/s]\n"
     ]
    },
    {
     "name": "stdout",
     "output_type": "stream",
     "text": [
      "train_loss 0.6932 - train accuracy 0.4995 \n",
      "validation_loss 0.694071 - validation accuracy 0.5000\n"
     ]
    },
    {
     "name": "stderr",
     "output_type": "stream",
     "text": [
      "epoch 4/200: 100%|██████████| 156/156 [00:04<00:00, 35.77it/s]\n"
     ]
    },
    {
     "name": "stdout",
     "output_type": "stream",
     "text": [
      "train_loss 0.6932 - train accuracy 0.4982 \n",
      "validation_loss 0.693335 - validation accuracy 0.5000\n"
     ]
    },
    {
     "name": "stderr",
     "output_type": "stream",
     "text": [
      "epoch 5/200: 100%|██████████| 156/156 [00:04<00:00, 36.10it/s]\n"
     ]
    },
    {
     "name": "stdout",
     "output_type": "stream",
     "text": [
      "train_loss 0.6932 - train accuracy 0.4982 \n",
      "validation_loss 0.693139 - validation accuracy 0.5000\n"
     ]
    },
    {
     "name": "stderr",
     "output_type": "stream",
     "text": [
      "epoch 6/200: 100%|██████████| 156/156 [00:04<00:00, 36.57it/s]\n"
     ]
    },
    {
     "ename": "KeyboardInterrupt",
     "evalue": "",
     "output_type": "error",
     "traceback": [
      "\u001b[31m---------------------------------------------------------------------------\u001b[39m",
      "\u001b[31mKeyboardInterrupt\u001b[39m                         Traceback (most recent call last)",
      "\u001b[36mCell\u001b[39m\u001b[36m \u001b[39m\u001b[32mIn[153]\u001b[39m\u001b[32m, line 35\u001b[39m\n\u001b[32m     33\u001b[39m cnn.eval(); head.eval()\n\u001b[32m     34\u001b[39m \u001b[38;5;28;01mwith\u001b[39;00m torch.no_grad():\n\u001b[32m---> \u001b[39m\u001b[32m35\u001b[39m \u001b[43m    \u001b[49m\u001b[38;5;28;43;01mfor\u001b[39;49;00m\u001b[43m \u001b[49m\u001b[43mX\u001b[49m\u001b[43m,\u001b[49m\u001b[43m \u001b[49m\u001b[43my\u001b[49m\u001b[43m \u001b[49m\u001b[38;5;129;43;01min\u001b[39;49;00m\u001b[43m \u001b[49m\u001b[43mval_dl\u001b[49m\u001b[43m:\u001b[49m\n\u001b[32m     36\u001b[39m \u001b[43m        \u001b[49m\u001b[43mX\u001b[49m\u001b[43m,\u001b[49m\u001b[43m \u001b[49m\u001b[43my\u001b[49m\u001b[43m \u001b[49m\u001b[43m=\u001b[49m\u001b[43m \u001b[49m\u001b[43mX\u001b[49m\u001b[43m.\u001b[49m\u001b[43mto\u001b[49m\u001b[43m(\u001b[49m\u001b[43mdevice\u001b[49m\u001b[43m)\u001b[49m\u001b[43m,\u001b[49m\u001b[43m \u001b[49m\u001b[43my\u001b[49m\u001b[43m.\u001b[49m\u001b[43msqueeze\u001b[49m\u001b[43m(\u001b[49m\u001b[32;43m1\u001b[39;49m\u001b[43m)\u001b[49m\u001b[43m.\u001b[49m\u001b[43mlong\u001b[49m\u001b[43m(\u001b[49m\u001b[43m)\u001b[49m\u001b[43m.\u001b[49m\u001b[43mto\u001b[49m\u001b[43m(\u001b[49m\u001b[43mdevice\u001b[49m\u001b[43m)\u001b[49m\n\u001b[32m     37\u001b[39m \u001b[43m        \u001b[49m\u001b[43mfeat_map\u001b[49m\u001b[43m \u001b[49m\u001b[43m=\u001b[49m\u001b[43m \u001b[49m\u001b[43mcnn\u001b[49m\u001b[43m.\u001b[49m\u001b[43mforward\u001b[49m\u001b[43m(\u001b[49m\u001b[43mX\u001b[49m\u001b[43m.\u001b[49m\u001b[43mpermute\u001b[49m\u001b[43m(\u001b[49m\u001b[32;43m0\u001b[39;49m\u001b[43m,\u001b[49m\u001b[43m \u001b[49m\u001b[32;43m2\u001b[39;49m\u001b[43m,\u001b[49m\u001b[43m \u001b[49m\u001b[32;43m1\u001b[39;49m\u001b[43m)\u001b[49m\u001b[43m)\u001b[49m\u001b[43m  \u001b[49m\u001b[38;5;66;43;03m# (B, E, T)\u001b[39;49;00m\n",
      "\u001b[36mFile \u001b[39m\u001b[32mc:\\Users\\tmpou\\miniconda3\\envs\\crypto_bot\\Lib\\site-packages\\torch\\utils\\data\\dataloader.py:701\u001b[39m, in \u001b[36m_BaseDataLoaderIter.__next__\u001b[39m\u001b[34m(self)\u001b[39m\n\u001b[32m    698\u001b[39m \u001b[38;5;28;01mif\u001b[39;00m \u001b[38;5;28mself\u001b[39m._sampler_iter \u001b[38;5;129;01mis\u001b[39;00m \u001b[38;5;28;01mNone\u001b[39;00m:\n\u001b[32m    699\u001b[39m     \u001b[38;5;66;03m# TODO(https://github.com/pytorch/pytorch/issues/76750)\u001b[39;00m\n\u001b[32m    700\u001b[39m     \u001b[38;5;28mself\u001b[39m._reset()  \u001b[38;5;66;03m# type: ignore[call-arg]\u001b[39;00m\n\u001b[32m--> \u001b[39m\u001b[32m701\u001b[39m data = \u001b[38;5;28;43mself\u001b[39;49m\u001b[43m.\u001b[49m\u001b[43m_next_data\u001b[49m\u001b[43m(\u001b[49m\u001b[43m)\u001b[49m\n\u001b[32m    702\u001b[39m \u001b[38;5;28mself\u001b[39m._num_yielded += \u001b[32m1\u001b[39m\n\u001b[32m    703\u001b[39m \u001b[38;5;28;01mif\u001b[39;00m (\n\u001b[32m    704\u001b[39m     \u001b[38;5;28mself\u001b[39m._dataset_kind == _DatasetKind.Iterable\n\u001b[32m    705\u001b[39m     \u001b[38;5;129;01mand\u001b[39;00m \u001b[38;5;28mself\u001b[39m._IterableDataset_len_called \u001b[38;5;129;01mis\u001b[39;00m \u001b[38;5;129;01mnot\u001b[39;00m \u001b[38;5;28;01mNone\u001b[39;00m\n\u001b[32m    706\u001b[39m     \u001b[38;5;129;01mand\u001b[39;00m \u001b[38;5;28mself\u001b[39m._num_yielded > \u001b[38;5;28mself\u001b[39m._IterableDataset_len_called\n\u001b[32m    707\u001b[39m ):\n",
      "\u001b[36mFile \u001b[39m\u001b[32mc:\\Users\\tmpou\\miniconda3\\envs\\crypto_bot\\Lib\\site-packages\\torch\\utils\\data\\dataloader.py:1437\u001b[39m, in \u001b[36m_MultiProcessingDataLoaderIter._next_data\u001b[39m\u001b[34m(self)\u001b[39m\n\u001b[32m   1434\u001b[39m \u001b[38;5;28;01melse\u001b[39;00m:\n\u001b[32m   1435\u001b[39m     \u001b[38;5;66;03m# no valid `self._rcvd_idx` is found (i.e., didn't break)\u001b[39;00m\n\u001b[32m   1436\u001b[39m     \u001b[38;5;28;01mif\u001b[39;00m \u001b[38;5;129;01mnot\u001b[39;00m \u001b[38;5;28mself\u001b[39m._persistent_workers:\n\u001b[32m-> \u001b[39m\u001b[32m1437\u001b[39m         \u001b[38;5;28;43mself\u001b[39;49m\u001b[43m.\u001b[49m\u001b[43m_shutdown_workers\u001b[49m\u001b[43m(\u001b[49m\u001b[43m)\u001b[49m\n\u001b[32m   1438\u001b[39m     \u001b[38;5;28;01mraise\u001b[39;00m \u001b[38;5;167;01mStopIteration\u001b[39;00m\n\u001b[32m   1440\u001b[39m \u001b[38;5;66;03m# Now `self._rcvd_idx` is the batch index we want to fetch\u001b[39;00m\n\u001b[32m   1441\u001b[39m \n\u001b[32m   1442\u001b[39m \u001b[38;5;66;03m# Check if the next sample has already been generated\u001b[39;00m\n",
      "\u001b[36mFile \u001b[39m\u001b[32mc:\\Users\\tmpou\\miniconda3\\envs\\crypto_bot\\Lib\\site-packages\\torch\\utils\\data\\dataloader.py:1568\u001b[39m, in \u001b[36m_MultiProcessingDataLoaderIter._shutdown_workers\u001b[39m\u001b[34m(self)\u001b[39m\n\u001b[32m   1563\u001b[39m         \u001b[38;5;28mself\u001b[39m._mark_worker_as_unavailable(worker_id, shutdown=\u001b[38;5;28;01mTrue\u001b[39;00m)\n\u001b[32m   1564\u001b[39m \u001b[38;5;28;01mfor\u001b[39;00m w \u001b[38;5;129;01min\u001b[39;00m \u001b[38;5;28mself\u001b[39m._workers:\n\u001b[32m   1565\u001b[39m     \u001b[38;5;66;03m# We should be able to join here, but in case anything went\u001b[39;00m\n\u001b[32m   1566\u001b[39m     \u001b[38;5;66;03m# wrong, we set a timeout and if the workers fail to join,\u001b[39;00m\n\u001b[32m   1567\u001b[39m     \u001b[38;5;66;03m# they are killed in the `finally` block.\u001b[39;00m\n\u001b[32m-> \u001b[39m\u001b[32m1568\u001b[39m     \u001b[43mw\u001b[49m\u001b[43m.\u001b[49m\u001b[43mjoin\u001b[49m\u001b[43m(\u001b[49m\u001b[43mtimeout\u001b[49m\u001b[43m=\u001b[49m\u001b[43m_utils\u001b[49m\u001b[43m.\u001b[49m\u001b[43mMP_STATUS_CHECK_INTERVAL\u001b[49m\u001b[43m)\u001b[49m\n\u001b[32m   1569\u001b[39m \u001b[38;5;28;01mfor\u001b[39;00m q \u001b[38;5;129;01min\u001b[39;00m \u001b[38;5;28mself\u001b[39m._index_queues:\n\u001b[32m   1570\u001b[39m     q.cancel_join_thread()\n",
      "\u001b[36mFile \u001b[39m\u001b[32mc:\\Users\\tmpou\\miniconda3\\envs\\crypto_bot\\Lib\\multiprocessing\\process.py:149\u001b[39m, in \u001b[36mBaseProcess.join\u001b[39m\u001b[34m(self, timeout)\u001b[39m\n\u001b[32m    147\u001b[39m \u001b[38;5;28;01massert\u001b[39;00m \u001b[38;5;28mself\u001b[39m._parent_pid == os.getpid(), \u001b[33m'\u001b[39m\u001b[33mcan only join a child process\u001b[39m\u001b[33m'\u001b[39m\n\u001b[32m    148\u001b[39m \u001b[38;5;28;01massert\u001b[39;00m \u001b[38;5;28mself\u001b[39m._popen \u001b[38;5;129;01mis\u001b[39;00m \u001b[38;5;129;01mnot\u001b[39;00m \u001b[38;5;28;01mNone\u001b[39;00m, \u001b[33m'\u001b[39m\u001b[33mcan only join a started process\u001b[39m\u001b[33m'\u001b[39m\n\u001b[32m--> \u001b[39m\u001b[32m149\u001b[39m res = \u001b[38;5;28;43mself\u001b[39;49m\u001b[43m.\u001b[49m\u001b[43m_popen\u001b[49m\u001b[43m.\u001b[49m\u001b[43mwait\u001b[49m\u001b[43m(\u001b[49m\u001b[43mtimeout\u001b[49m\u001b[43m)\u001b[49m\n\u001b[32m    150\u001b[39m \u001b[38;5;28;01mif\u001b[39;00m res \u001b[38;5;129;01mis\u001b[39;00m \u001b[38;5;129;01mnot\u001b[39;00m \u001b[38;5;28;01mNone\u001b[39;00m:\n\u001b[32m    151\u001b[39m     _children.discard(\u001b[38;5;28mself\u001b[39m)\n",
      "\u001b[36mFile \u001b[39m\u001b[32mc:\\Users\\tmpou\\miniconda3\\envs\\crypto_bot\\Lib\\multiprocessing\\popen_spawn_win32.py:112\u001b[39m, in \u001b[36mPopen.wait\u001b[39m\u001b[34m(self, timeout)\u001b[39m\n\u001b[32m    109\u001b[39m \u001b[38;5;28;01melse\u001b[39;00m:\n\u001b[32m    110\u001b[39m     msecs = \u001b[38;5;28mmax\u001b[39m(\u001b[32m0\u001b[39m, \u001b[38;5;28mint\u001b[39m(timeout * \u001b[32m1000\u001b[39m + \u001b[32m0.5\u001b[39m))\n\u001b[32m--> \u001b[39m\u001b[32m112\u001b[39m res = _winapi.WaitForSingleObject(\u001b[38;5;28mint\u001b[39m(\u001b[38;5;28mself\u001b[39m._handle), msecs)\n\u001b[32m    113\u001b[39m \u001b[38;5;28;01mif\u001b[39;00m res == _winapi.WAIT_OBJECT_0:\n\u001b[32m    114\u001b[39m     code = _winapi.GetExitCodeProcess(\u001b[38;5;28mself\u001b[39m._handle)\n",
      "\u001b[31mKeyboardInterrupt\u001b[39m: "
     ]
    }
   ],
   "source": [
    "# training loop\n",
    "print(\"Start training...\")\n",
    "best_val = float(\"inf\")\n",
    "val_loss = float(\"inf\")\n",
    "train_hist, val_hist = [], []\n",
    "wait = 0\n",
    "for epoch in range(200):\n",
    "    # -------- train ----------\n",
    "    cnn.train(); head.train()\n",
    "    train_loss = 0\n",
    "    train_preds, train_labels = [], []\n",
    "    for X, y in tqdm(train_dl, desc=f\"epoch {epoch+1}/{200}\"):\n",
    "        X, y = X.to(device), y.squeeze().long().to(device)\n",
    "        feat_map = cnn.forward(X.permute(0, 2, 1))  # (B, E, T)\n",
    "        pooled, _ = feat_map.max(dim=2) # (B, E)\n",
    "        logits = head(pooled)  # (B, 2)\n",
    "        loss = criterion(logits, y)\n",
    "\n",
    "        optimizer.zero_grad()\n",
    "        loss.backward()\n",
    "        optimizer.step()\n",
    "        train_loss += loss.item()  \n",
    "        # print(\"Grad mean:\", cnn.cnn[0].weight.grad.abs().mean().item())\n",
    "        # print(\"Grad std:\", cnn.cnn[0].weight.grad.abs().std().item())\n",
    "        train_preds.append(torch.argmax(logits, dim=1).cpu().numpy())\n",
    "        train_labels.append(y.cpu().numpy())\n",
    "        \n",
    "    train_acc = balanced_accuracy_score(np.concatenate(train_labels), np.concatenate(train_preds))\n",
    "    train_loss /= len(train_dl)\n",
    "    # -------- validation ----------\n",
    "    val_loss = 0\n",
    "    val_preds, val_labels = [], []\n",
    "    cnn.eval(); head.eval()\n",
    "    with torch.no_grad():\n",
    "        for X, y in val_dl:\n",
    "            X, y = X.to(device), y.squeeze(1).long().to(device)\n",
    "            feat_map = cnn.forward(X.permute(0, 2, 1))  # (B, E, T)\n",
    "            pooled, _ = feat_map.max(dim=2) # (B, E)\n",
    "            logits = head(pooled)  # (B, 2)\n",
    "            val_loss += criterion(logits, y).item()\n",
    "            \n",
    "        val_preds.append(torch.argmax(logits, dim=1).cpu().numpy())\n",
    "        val_labels.append(y.cpu().numpy())\n",
    "        \n",
    "    val_acc = balanced_accuracy_score(np.concatenate(val_labels), np.concatenate(val_preds))\n",
    "    val_loss /= len(val_dl)\n",
    "    \n",
    "    train_hist.append(train_loss)\n",
    "    val_hist.append(val_loss)  \n",
    "    print(f\"train_loss {train_loss:.4f} - train accuracy {train_acc:.4f} \\nvalidation_loss {val_loss:4f} - validation accuracy {val_acc:.4f}\")\n",
    "\n",
    "    # ------- early stopping ---------\n",
    "    if val_loss < best_val: \n",
    "        best_val = val_loss\n",
    "        wait = 0\n",
    "        torch.save({\"cnn\": cnn.state_dict(), \"head\": head.state_dict()}, \"cnn_pretrain.pt\")\n",
    "    else:\n",
    "        wait += 1\n",
    "        if wait >= 10:\n",
    "            print(f'Saved CNN weights -> {\"cnn_pretrain.pt\"}')\n",
    "            break\n"
   ]
  },
  {
   "cell_type": "code",
   "execution_count": 141,
   "id": "c87d4142",
   "metadata": {},
   "outputs": [
    {
     "name": "stdout",
     "output_type": "stream",
     "text": [
      "balanced accuracy:  0.5077188591581544\n",
      "              precision    recall  f1-score   support\n",
      "\n",
      "           0       0.50      0.69      0.58      2117\n",
      "           1       0.52      0.32      0.40      2158\n",
      "\n",
      "    accuracy                           0.51      4275\n",
      "   macro avg       0.51      0.51      0.49      4275\n",
      "weighted avg       0.51      0.51      0.49      4275\n",
      "\n"
     ]
    },
    {
     "data": {
      "image/png": "[encoded data removed]",
      "text/plain": [
       "<Figure size 800x400 with 1 Axes>"
      ]
     },
     "metadata": {},
     "output_type": "display_data"
    }
   ],
   "source": [
    "print(\"validation balanced accuracy: \", balanced_accuracy_score(val_labels, val_preds))\n",
    "print(classification_report(val_labels, val_preds))\n",
    "\n",
    "plt.figure(figsize=(8,4))\n",
    "plt.plot(train_hist, label=\"train MSE\")\n",
    "plt.plot(val_hist,   label=\"val MSE\")\n",
    "plt.xlabel(\"epoch\")\n",
    "plt.ylabel(\"loss\")\n",
    "plt.title(\"Training history\")\n",
    "plt.legend()\n",
    "plt.tight_layout()\n",
    "plt.show()"
   ]
  },
  {
   "cell_type": "code",
   "execution_count": 26,
   "id": "0eb559b9",
   "metadata": {},
   "outputs": [
    {
     "name": "stdout",
     "output_type": "stream",
     "text": [
      "tensor([-0.1372, -0.1370, -0.1368,  ..., 38.2830, 45.2362, 51.4052])\n",
      "torch.Size([661753])\n"
     ]
    }
   ],
   "source": [
    "unique_wind = X_tensor.unique()\n",
    "print(unique_wind)\n",
    "print(unique_wind.shape)"
   ]
  },
  {
   "cell_type": "code",
   "execution_count": 27,
   "id": "ad376192",
   "metadata": {},
   "outputs": [
    {
     "data": {
      "text/plain": [
       "torch.Size([44257, 168, 74])"
      ]
     },
     "execution_count": 27,
     "metadata": {},
     "output_type": "execute_result"
    }
   ],
   "source": [
    "X_tensor.shape"
   ]
  }
 ],
 "metadata": {
  "kernelspec": {
   "display_name": "crypto_bot",
   "language": "python",
   "name": "python3"
  },
  "language_info": {
   "codemirror_mode": {
    "name": "ipython",
    "version": 3
   },
   "file_extension": ".py",
   "mimetype": "text/x-python",
   "name": "python",
   "nbconvert_exporter": "python",
   "pygments_lexer": "ipython3",
   "version": "3.11.11"
  }
 },
 "nbformat": 4,
 "nbformat_minor": 5
}
