{
 "cells": [
  {
   "cell_type": "code",
   "execution_count": 5,
   "id": "7e6d4ae5",
   "metadata": {},
   "outputs": [],
   "source": [
    "import os, glob, math, argparse\n",
    "import numpy as np\n",
    "import pandas as pd\n",
    "import torch\n",
    "import torch.nn as nn\n",
    "from torch.utils.data import Dataset, DataLoader"
   ]
  },
  {
   "cell_type": "code",
   "execution_count": 2,
   "id": "3685bb55",
   "metadata": {},
   "outputs": [],
   "source": [
    "data = np.load(\"data/dataset/metrics_outfile.npy\")"
   ]
  },
  {
   "cell_type": "code",
   "execution_count": null,
   "id": "65d4a6ec",
   "metadata": {},
   "outputs": [
    {
     "ename": "IndentationError",
     "evalue": "unexpected indent (3239195509.py, line 2)",
     "output_type": "error",
     "traceback": [
      "  \u001b[36mCell\u001b[39m\u001b[36m \u001b[39m\u001b[32mIn[8]\u001b[39m\u001b[32m, line 2\u001b[39m\n\u001b[31m    \u001b[39m\u001b[31mtargets = np.load(price_npy)\u001b[39m\n    ^\n\u001b[31mIndentationError\u001b[39m\u001b[31m:\u001b[39m unexpected indent\n"
     ]
    }
   ],
   "source": [
    "seq_len = 168\n",
    "data = np.load(metrics_npy)\n",
    "targets = np.load(price_npy)\n",
    "X = []\n",
    "y=[]\n",
    "\n",
    "for t in range(len(data) - seq_len):\n",
    "    X.append(data[t:t+seq_len-1])\n",
    "    y.append(targets[t+seq_len])"
   ]
  },
  {
   "cell_type": "code",
   "execution_count": null,
   "id": "724c50a9",
   "metadata": {},
   "outputs": [],
   "source": []
  }
 ],
 "metadata": {
  "kernelspec": {
   "display_name": "crypto_bot",
   "language": "python",
   "name": "python3"
  },
  "language_info": {
   "codemirror_mode": {
    "name": "ipython",
    "version": 3
   },
   "file_extension": ".py",
   "mimetype": "text/x-python",
   "name": "python",
   "nbconvert_exporter": "python",
   "pygments_lexer": "ipython3",
   "version": "3.11.11"
  }
 },
 "nbformat": 4,
 "nbformat_minor": 5
}
