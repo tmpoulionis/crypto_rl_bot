{
 "cells": [
  {
   "cell_type": "code",
   "execution_count": 36,
   "id": "5cf53f4c",
   "metadata": {},
   "outputs": [],
   "source": [
    "import os, glob, math, argparse\n",
    "import numpy as np\n",
    "import pandas as pd\n",
    "from sklearn.preprocessing import StandardScaler, RobustScaler\n",
    "import matplotlib.pyplot as plt\n",
    "import torch\n",
    "import torch.nn as nn\n",
    "from torch.utils.data import TensorDataset, DataLoader\n",
    "from tqdm import tqdm\n",
    "\n",
    "# ------ Dataset ------\n",
    "def WindowDataset(metrics, prices, seq_len=168):\n",
    "    seq_len = seq_len\n",
    "    X, y = [], []\n",
    "    \n",
    "    returns = np.diff(prices, axis=0)\n",
    "    y_class = (returns > 0).astype(np.int8)\n",
    "    \n",
    "    for t in range(len(metrics) - seq_len):\n",
    "        X.append(metrics[t:t+seq_len])\n",
    "        y.append(y_class[t+seq_len-1])\n",
    "    \n",
    "    X = np.array(X) # (N, T, F)\n",
    "    y = np.array(y) # (N, 1)\n",
    "    return X, y    \n",
    "\n",
    "def scale_window(win, min_q=1, max_q=99, clip=10.0, coef=1e3):\n",
    "    \"\"\"\n",
    "    win : (T=168, F=74)  raw values\n",
    "    returns (T, F)  scaled exactly like env.Scaler\n",
    "    \"\"\"\n",
    "    scaler = RobustScaler(quantile_range=(min_q, max_q))\n",
    "    scaler.fit(win)  # fit on this *window* only\n",
    "    feats = scaler.transform(win)\n",
    "    feats = np.clip(feats, -clip, clip)\n",
    "\n",
    "    return feats.astype(np.float32)      \n",
    "\n",
    "def split_hourly_daily(window: np.ndarray, col_names: np.ndarray):\n",
    "    \"\"\"\n",
    "    Given a window of shape (seq_len, num_features) and column names,\n",
    "    - drops the first two columns (assumed to be 'day of week' and 'hour'),\n",
    "    - separates hourly and daily features,\n",
    "    - for daily features, returns one row per unique (day_of_week, hour==0) in the window.\n",
    "    Returns: hourly_data, daily_data\n",
    "    \"\"\"\n",
    "    # Use first two columns for logic, but drop them from features\n",
    "    day_of_week = window[:, :, 0]\n",
    "    hour = window[:, :, 1]\n",
    "    features = window[:, :, 2:]\n",
    "    col_names = col_names[2:]\n",
    "\n",
    "    # Find indices for hourly and daily features\n",
    "    hourly_idx = np.array([i for i, name in enumerate(col_names) if \"_1h_\" in name])\n",
    "    daily_idx = np.array([i for i, name in enumerate(col_names) if \"_1d_\" in name])\n",
    "     \n",
    "    # Extract hourly and daily data\n",
    "    hourly_data = features[:, :, hourly_idx]\n",
    "    daily_data_full = features[:, :, daily_idx]\n",
    "    \n",
    "    # For daily data, select rows where hour == 0 (start of each day)\n",
    "    N, T, D = daily_data_full.shape\n",
    "    days = T//24\n",
    "\n",
    "    daily_data_reshaped = daily_data_full.reshape(N, days, 24, D)\n",
    "    daily_data = daily_data_reshaped[:, :, 0, :]\n",
    "    \n",
    "    return hourly_data, daily_data, col_names[hourly_idx], col_names[daily_idx]"
   ]
  },
  {
   "cell_type": "code",
   "execution_count": 37,
   "id": "6248a6f7",
   "metadata": {},
   "outputs": [
    {
     "name": "stdout",
     "output_type": "stream",
     "text": [
      "Using cuda (device)\n"
     ]
    }
   ],
   "source": [
    "device = \"cuda\" if torch.cuda.is_available() else \"cpu\"\n",
    "print(f\"Using {device} (device)\")\n",
    "\n",
    "# load and split data\n",
    "metrics_path = os.path.join(\"data/dataset\", \"metrics_outfile.npy\")\n",
    "price_path = os.path.join(\"data/dataset\", \"price_outfile.npy\")\n",
    "names_path = os.path.join(\"data/dataset\", \"feat_names.npy\")\n",
    "X = np.load(metrics_path).astype(np.float32)\n",
    "y = np.load(price_path).astype(np.float32)\n",
    "feat_names = np.load(names_path).astype(str)"
   ]
  },
  {
   "cell_type": "code",
   "execution_count": 38,
   "id": "8564b4b6",
   "metadata": {},
   "outputs": [],
   "source": [
    "hourly_idx = np.array([i for i, name in enumerate(feat_names) if \"_1h_\" in name])\n",
    "daily_idx = np.array([i for i, name in enumerate(feat_names) if \"_1d_\" in name])"
   ]
  },
  {
   "cell_type": "code",
   "execution_count": 39,
   "id": "cb461c42",
   "metadata": {},
   "outputs": [
    {
     "data": {
      "text/plain": [
       "array([22, 23, 24, 25, 26, 27, 28, 29, 30, 31, 32, 33, 34, 35, 36, 37, 38,\n",
       "       39, 58, 59, 60, 61, 62, 63, 64, 65, 66, 67, 68, 69, 70, 71, 72, 73,\n",
       "       74, 75])"
      ]
     },
     "execution_count": 39,
     "metadata": {},
     "output_type": "execute_result"
    }
   ],
   "source": [
    "daily_idx+2"
   ]
  },
  {
   "cell_type": "code",
   "execution_count": 3,
   "id": "2b7226fc",
   "metadata": {},
   "outputs": [
    {
     "name": "stdout",
     "output_type": "stream",
     "text": [
      "[189.99 190.49 191.31 191.22 191.06 191.72 191.52]\n",
      "[1 1 0 0 1 0 1]\n"
     ]
    }
   ],
   "source": [
    "returns = np.diff(y, axis=0)\n",
    "y_class = (returns > 0).astype(np.int8)\n",
    "\n",
    "print(y[3:10].flatten())\n",
    "print(y_class[3:10].flatten())"
   ]
  },
  {
   "cell_type": "code",
   "execution_count": null,
   "id": "d7f7d93b",
   "metadata": {},
   "outputs": [
    {
     "name": "stderr",
     "output_type": "stream",
     "text": [
      "Scaling windows: 100%|██████████| 44257/44257 [04:34<00:00, 160.95it/s]\n"
     ]
    }
   ],
   "source": [
    "\n",
    "X_scaled = np.empty_like(X)\n",
    "for i in tqdm(range(X.shape[0]), desc=\"Scaling windows\"):\n",
    "    X_scaled[i] = scale_window(X[i])\n",
    "X_hourly, X_daily, hourly_names, daily_names = split_hourly_daily(X_scaled, feat_names)"
   ]
  },
  {
   "cell_type": "code",
   "execution_count": 5,
   "id": "201fee28",
   "metadata": {},
   "outputs": [],
   "source": [
    "X_hourly, X_daily, hourly_names, daily_names = split_hourly_daily(X_scaled, feat_names)"
   ]
  },
  {
   "cell_type": "code",
   "execution_count": 6,
   "id": "3228ac00",
   "metadata": {},
   "outputs": [
    {
     "name": "stdout",
     "output_type": "stream",
     "text": [
      "(44257, 168, 36) (44257, 1)\n",
      "(44257, 7, 36) (44257, 1)\n"
     ]
    }
   ],
   "source": [
    "print(X_hourly.shape, y.shape)\n",
    "# print(X_hourly.mean(axis=(0, 1)), X_hourly.std(axis=(0, 1)))\n",
    "\n",
    "print(X_daily.shape, y.shape)\n",
    "# print(X_daily.mean(axis=(0, 1)), X_daily.std(axis=(0, 1)))"
   ]
  },
  {
   "cell_type": "code",
   "execution_count": 7,
   "id": "25eec30e",
   "metadata": {},
   "outputs": [
    {
     "name": "stdout",
     "output_type": "stream",
     "text": [
      "Label distribution: (array([0, 1], dtype=int8), array([21839, 22418], dtype=int64))\n"
     ]
    }
   ],
   "source": [
    "print(\"Label distribution:\", np.unique(y, return_counts=True))"
   ]
  },
  {
   "cell_type": "code",
   "execution_count": 8,
   "id": "162a956c",
   "metadata": {},
   "outputs": [
    {
     "name": "stdout",
     "output_type": "stream",
     "text": [
      "[0.35153565 0.35313535 0.34828687 0.3515493  0.33925438 0.33359864\n",
      " 0.34563836 0.34358522 0.3460969  0.347385   0.32838887 0.3470553\n",
      " 0.35033515 0.34359196 0.34046918 0.34859774 0.3298652  0.3491058\n",
      " 0.34693402 0.35336605 0.34568352 0.34686524 0.33941156 0.33617824\n",
      " 0.34369314 0.34093    0.34387612 0.34334064 0.32754698 0.346809\n",
      " 0.35021862 0.3416755  0.34052005 0.3500925  0.3320723  0.3449428 ]\n"
     ]
    },
    {
     "data": {
      "image/png": "[encoded data removed]",
      "text/plain": [
       "<Figure size 800x300 with 1 Axes>"
      ]
     },
     "metadata": {},
     "output_type": "display_data"
    }
   ],
   "source": [
    "sigmas = X_daily.std(axis=(0, 1))        # shape (F,)\n",
    "print(sigmas)\n",
    "\n",
    "plt.figure(figsize=(8,3))\n",
    "plt.semilogy(sigmas, '.', markersize=4)\n",
    "plt.axhline(1.0, color='r', lw=1)\n",
    "plt.title(\"Per-feature stdev after scaling\")\n",
    "plt.xlabel(\"feature index\"); \n",
    "plt.ylabel(\"std\")\n",
    "plt.tight_layout()"
   ]
  },
  {
   "cell_type": "code",
   "execution_count": 9,
   "id": "538d92ff",
   "metadata": {},
   "outputs": [],
   "source": [
    "# Save as CNN pretraining dataset as .npy files\n",
    "save_path = \"./data/cnn_pretrain\"\n",
    "np.save(os.path.join(save_path, \"hourly_outfile.npy\"), X_hourly)\n",
    "np.save(os.path.join(save_path, \"daily_outfile.npy\"), X_daily)\n",
    "np.save(os.path.join(save_path, \"targets_outfile.npy\"), y)"
   ]
  }
 ],
 "metadata": {
  "kernelspec": {
   "display_name": "crypto_bot",
   "language": "python",
   "name": "python3"
  },
  "language_info": {
   "codemirror_mode": {
    "name": "ipython",
    "version": 3
   },
   "file_extension": ".py",
   "mimetype": "text/x-python",
   "name": "python",
   "nbconvert_exporter": "python",
   "pygments_lexer": "ipython3",
   "version": "3.11.11"
  }
 },
 "nbformat": 4,
 "nbformat_minor": 5
}
